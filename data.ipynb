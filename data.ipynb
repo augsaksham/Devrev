{
 "cells": [
  {
   "cell_type": "code",
   "execution_count": null,
   "metadata": {},
   "outputs": [],
   "source": [
    "import json\n",
    "from sklearn.model_selection import train_test_split\n",
    "f = open('train-v2.0.json')\n",
    "data = json.load(f)"
   ]
  },
  {
   "cell_type": "code",
   "execution_count": null,
   "metadata": {},
   "outputs": [],
   "source": [
    "import pandas as pd\n",
    "df=pd.read_csv('train_data.csv')\n",
    "df.head()"
   ]
  },
  {
   "cell_type": "code",
   "execution_count": null,
   "metadata": {},
   "outputs": [],
   "source": [
    "json_file_path = \"test.json\"\n",
    "\n",
    "with open(json_file_path, encoding=\"utf-8\") as f:\n",
    "    squad = json.load(f)\n",
    "\n",
    "squad\n"
   ]
  },
  {
   "cell_type": "code",
   "execution_count": null,
   "metadata": {},
   "outputs": [],
   "source": [
    "df_train ,df_dev=train_test_split(df, test_size=0.2, random_state=42,stratify=df['Answer_possible'])\n"
   ]
  },
  {
   "cell_type": "code",
   "execution_count": null,
   "metadata": {},
   "outputs": [],
   "source": [
    "def process_data(df):\n",
    "    dict_final={}\n",
    "    for i in range(df.shape[0]):\n",
    "        dat=df.iloc[i]\n",
    "        dict_final[dat[\"Theme\"]]={}\n",
    "    \n",
    "    for i in range(df.shape[0]):\n",
    "        dat=df.iloc[i]\n",
    "        dict_final[dat[\"Theme\"]][dat[\"Paragraph\"]]=[]\n",
    "\n",
    "    for i in range(df.shape[0]):\n",
    "        dat=df.iloc[i]\n",
    "        tmp={'Question':dat['Question'],'Answer_possible':dat['Answer_possible'],\n",
    "                    'Answer_text':dat['Answer_text'],'Answer_start':dat['Answer_start'],'id':dat['Unnamed: 0']}\n",
    "        tmp['Answer_text']=tmp['Answer_text'][1:-1]\n",
    "        tmp[\"Answer_text\"]=[tmp[\"Answer_text\"]]\n",
    "        # print(\"Type Answer is \",type(tmp[\"Answer_text\"]))\n",
    "        # print(\"Answer is \",tmp[\"Answer_text\"][0])\n",
    "        # break\n",
    "        tmp['Answer_start']=tmp['Answer_start'][1:-1].split(',')\n",
    "        if tmp['Answer_possible']==True:\n",
    "            for i in range(len(tmp['Answer_start'])):\n",
    "                tmp['Answer_start'][i]=int(tmp['Answer_start'][i])\n",
    "        else :\n",
    "            tmp['Answer_start']=[]\n",
    "            tmp['Answer_text']=[]\n",
    "        dict_final[dat[\"Theme\"]][dat[\"Paragraph\"]].append(tmp)\n",
    "\n",
    "\n",
    "    cnt=[]\n",
    "    def clean(dict_final):\n",
    "        for i in dict_final.keys():\n",
    "            for j in dict_final[i].keys():\n",
    "                for k in dict_final[i][j]:\n",
    "                    if not(len(k['Answer_text'])==len(k['Answer_start'])):\n",
    "                        cnt.append(1)\n",
    "                        print(len(k['Answer_text']),\" \",len(k['Answer_start']))\n",
    "                        print()\n",
    "        print(len(cnt))\n",
    "\n",
    "    clean(dict_final)\n",
    "\n",
    "\n",
    "    final_json={'version':0.0,'data':[]}\n",
    "    for i in dict_final.keys():\n",
    "        tmp={'title':i,'paragraphs':[]}\n",
    "        for j in dict_final[i].keys():\n",
    "            tp={'qas':[],'context':(j[1:-1] if j[0]=='\\'' else j)}\n",
    "            for k in dict_final[i][j]:\n",
    "                ty={}\n",
    "                ty['question']=k['Question']\n",
    "                ty['is_impossible']=(False if (k['Answer_possible']==True) else True)\n",
    "                if ty['is_impossible']==True:\n",
    "                    ty['plausible_answers']=[]\n",
    "                ty['id']=str(k['id'])\n",
    "                ty['answers']=[]\n",
    "                if not(len(k['Answer_text'])==len(k['Answer_start'])):\n",
    "                    print(\"Non Same at i = \",i,\" Para = \",j,\" question = \",k)\n",
    "                    print(len(k['Answer_text']),\"            \",len(k['Answer_start']))\n",
    "                for l in range(len(k['Answer_text'])):\n",
    "                    rr={}\n",
    "                    rr['text']=(k['Answer_text'][l][1:-1] if k['Answer_text'][l][0]=='\\'' else k['Answer_text'][l])\n",
    "                    rr['answer_start']=int(k['Answer_start'][l])\n",
    "                    ty['answers'].append(rr)\n",
    "                tp['qas'].append(ty)\n",
    "            tmp['paragraphs'].append(tp)\n",
    "        final_json['data'].append(tmp)\n",
    "\n",
    "    print(\"**********************Processed DF ****************** \")\n",
    "\n",
    "    return final_json"
   ]
  },
  {
   "cell_type": "code",
   "execution_count": null,
   "metadata": {},
   "outputs": [],
   "source": [
    "import json\n",
    "import numpy as np\n",
    "def save_json(name,final_json):\n",
    "    json_object = json.dumps(final_json)\n",
    "    \n",
    "    # Writing to sample.json\n",
    "    with open(name, \"w\") as outfile:\n",
    "        outfile.write(json_object)"
   ]
  },
  {
   "cell_type": "code",
   "execution_count": null,
   "metadata": {},
   "outputs": [],
   "source": [
    "test=process_data(df_train)\n",
    "dev=process_data(df_dev)"
   ]
  },
  {
   "cell_type": "code",
   "execution_count": null,
   "metadata": {},
   "outputs": [],
   "source": [
    "save_json('test.json',test)\n",
    "save_json('dev.json',dev)"
   ]
  }
 ],
 "metadata": {
  "kernelspec": {
   "display_name": "Python 3",
   "language": "python",
   "name": "python3"
  },
  "language_info": {
   "codemirror_mode": {
    "name": "ipython",
    "version": 3
   },
   "file_extension": ".py",
   "mimetype": "text/x-python",
   "name": "python",
   "nbconvert_exporter": "python",
   "pygments_lexer": "ipython3",
   "version": "3.7.8"
  },
  "orig_nbformat": 4,
  "vscode": {
   "interpreter": {
    "hash": "e63ba49aebc988b646e1dbf99c75ebbbe79a20618136c52c827b2893e897d8ad"
   }
  }
 },
 "nbformat": 4,
 "nbformat_minor": 2
}
